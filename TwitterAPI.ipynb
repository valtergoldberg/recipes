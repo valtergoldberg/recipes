{
  "nbformat": 4,
  "nbformat_minor": 0,
  "metadata": {
    "colab": {
      "name": "TwitterAPI.ipynb",
      "provenance": [],
      "collapsed_sections": [],
      "include_colab_link": true
    },
    "kernelspec": {
      "name": "python3",
      "display_name": "Python 3"
    }
  },
  "cells": [
    {
      "cell_type": "markdown",
      "metadata": {
        "id": "view-in-github",
        "colab_type": "text"
      },
      "source": [
        "<a href=\"https://colab.research.google.com/github/valtergoldberg/recipes/blob/master/TwitterAPI.ipynb\" target=\"_parent\"><img src=\"https://colab.research.google.com/assets/colab-badge.svg\" alt=\"Open In Colab\"/></a>"
      ]
    },
    {
      "cell_type": "code",
      "metadata": {
        "id": "z7xPyLnK0ssx",
        "colab_type": "code",
        "colab": {}
      },
      "source": [
        "import tweepy as tw"
      ],
      "execution_count": 0,
      "outputs": []
    },
    {
      "cell_type": "code",
      "metadata": {
        "id": "tbaKaJyh0-rZ",
        "colab_type": "code",
        "colab": {}
      },
      "source": [
        "# Consumer API keys\n",
        "consumer_key='jt1xglPuP8IkTRkHrPzOjUXgn'\n",
        "consumer_secret='dpZUwI37pFV2iHFlkRzWyBdkgDAhe1lWI6JLDTWXynRXRbOZ48'\n",
        "\n",
        "# Access token & access token secret\n",
        "access_token='702475399486427136-pkcRCK6j8lDi5OiDo2Wi1PSlT8BRUg6'\n",
        "access_token_secret= 'ZcQlCBydSqn3LTPuHCneBC0TYXyoAHtBWWL7Sc96Z0qZN'"
      ],
      "execution_count": 0,
      "outputs": []
    },
    {
      "cell_type": "code",
      "metadata": {
        "id": "4ZcSHT1X17UO",
        "colab_type": "code",
        "colab": {}
      },
      "source": [
        "auth = tw.OAuthHandler(consumer_key,consumer_secret)"
      ],
      "execution_count": 0,
      "outputs": []
    },
    {
      "cell_type": "code",
      "metadata": {
        "id": "dJl4VqMg3bP-",
        "colab_type": "code",
        "colab": {}
      },
      "source": [
        "auth.set_access_token(access_token, access_token_secret)"
      ],
      "execution_count": 0,
      "outputs": []
    },
    {
      "cell_type": "code",
      "metadata": {
        "id": "m72ieO8h4K05",
        "colab_type": "code",
        "colab": {}
      },
      "source": [
        "api = tw.API(auth)"
      ],
      "execution_count": 0,
      "outputs": []
    },
    {
      "cell_type": "code",
      "metadata": {
        "id": "01yzuyAZ4S13",
        "colab_type": "code",
        "colab": {}
      },
      "source": [
        "#tweet = api.update_status(\"Berlin\")"
      ],
      "execution_count": 0,
      "outputs": []
    },
    {
      "cell_type": "code",
      "metadata": {
        "id": "jHJlHIC55e8i",
        "colab_type": "code",
        "colab": {}
      },
      "source": [
        "user = api.get_user('JBGoldberg')"
      ],
      "execution_count": 0,
      "outputs": []
    },
    {
      "cell_type": "code",
      "metadata": {
        "id": "5MdDlfP_ymkG",
        "colab_type": "code",
        "outputId": "560d867a-426d-43d4-b6b6-2821e7af02dd",
        "colab": {
          "base_uri": "https://localhost:8080/",
          "height": 34
        }
      },
      "source": [
        "print(\"My Twitter Handle:\" , user.screen_name)\n",
        "ct = 0\n"
      ],
      "execution_count": 0,
      "outputs": [
        {
          "output_type": "stream",
          "text": [
            "My Twitter Handle: JBGoldberg\n"
          ],
          "name": "stdout"
        }
      ]
    },
    {
      "cell_type": "code",
      "metadata": {
        "id": "Wh2-AcP50NTt",
        "colab_type": "code",
        "outputId": "4f79f611-01a3-4888-825b-1dbeee22cf18",
        "colab": {
          "base_uri": "https://localhost:8080/",
          "height": 34
        }
      },
      "source": [
        "print(user.friends_count)"
      ],
      "execution_count": 0,
      "outputs": [
        {
          "output_type": "stream",
          "text": [
            "26\n"
          ],
          "name": "stdout"
        }
      ]
    },
    {
      "cell_type": "code",
      "metadata": {
        "id": "0mD6_MpP0XHE",
        "colab_type": "code",
        "colab": {}
      },
      "source": [
        "followers=user.followers"
      ],
      "execution_count": 0,
      "outputs": []
    },
    {
      "cell_type": "code",
      "metadata": {
        "id": "CYrSsBez1mDL",
        "colab_type": "code",
        "outputId": "2f14db5b-cf02-4076-94ea-105dc5605dfe",
        "colab": {
          "base_uri": "https://localhost:8080/",
          "height": 121
        }
      },
      "source": [
        "for friend in user.followers():\n",
        "    print(friend.screen_name)\n",
        "    ct = ct + 1\n",
        "\n",
        "\n",
        "print(\"\\n\\nFinal Count:\", ct)"
      ],
      "execution_count": 0,
      "outputs": [
        {
          "output_type": "stream",
          "text": [
            "RHelmuthGold\n",
            "SusDarklyAbove\n",
            "GoldbergValter\n",
            "\n",
            "\n",
            "Final Count: 23\n"
          ],
          "name": "stdout"
        }
      ]
    },
    {
      "cell_type": "code",
      "metadata": {
        "id": "WwBjCT8XzJ2f",
        "colab_type": "code",
        "outputId": "a75db02d-dd52-4452-d436-2f4795bbb250",
        "colab": {
          "base_uri": "https://localhost:8080/",
          "height": 416
        }
      },
      "source": [
        "for friend in user.friends():\n",
        "    print(friend.screen_name)\n",
        "    ct = ct + 1\n",
        "\n",
        "\n",
        "print(\"\\n\\nFinal Count:\", ct)"
      ],
      "execution_count": 0,
      "outputs": [
        {
          "output_type": "stream",
          "text": [
            "BlogDoPim\n",
            "gilmarmendes\n",
            "alexandregarcia\n",
            "WilliamWaack_JG\n",
            "papodehomem\n",
            "nandokanarski\n",
            "gopherconeu\n",
            "RosaSalazarBr\n",
            "rosasalazar\n",
            "sewernugget\n",
            "ernestofaraujo\n",
            "MarceloTas\n",
            "Astro_Pontes\n",
            "deltanmd\n",
            "jordanbpeterson\n",
            "Lauren_Southern\n",
            "StreitkulturBer\n",
            "XadrezVerbal\n",
            "AlitaMovie\n",
            "ayubrazil\n",
            "\n",
            "\n",
            "Final Count: 20\n"
          ],
          "name": "stdout"
        }
      ]
    },
    {
      "cell_type": "markdown",
      "metadata": {
        "id": "I7ry2Yq3ppcc",
        "colab_type": "text"
      },
      "source": [
        "Pesquisando o Passado Tweets\n"
      ]
    },
    {
      "cell_type": "code",
      "metadata": {
        "id": "ZPsdsWJFp21t",
        "colab_type": "code",
        "colab": {}
      },
      "source": [
        "tweets = tw.Cursor(api.search, q=\"data science\", since='2019-01-01', lang='pt').items(10)"
      ],
      "execution_count": 0,
      "outputs": []
    },
    {
      "cell_type": "code",
      "metadata": {
        "id": "ZaHvQNA2qofL",
        "colab_type": "code",
        "colab": {}
      },
      "source": [
        "for tweet in tweets:\n",
        "  print(tweet.text)"
      ],
      "execution_count": 0,
      "outputs": []
    },
    {
      "cell_type": "code",
      "metadata": {
        "id": "CAtyuFyfq9zN",
        "colab_type": "code",
        "colab": {}
      },
      "source": [
        "tweets = tw.Cursor(api.search, q=\"data science\", since='2019-01-01', lang='pt').items(20)"
      ],
      "execution_count": 0,
      "outputs": []
    },
    {
      "cell_type": "code",
      "metadata": {
        "id": "b22AHx95sU9J",
        "colab_type": "code",
        "colab": {}
      },
      "source": [
        "for tweet in tweets:\n",
        "  print(tweet.text)\n",
        "  print(tweet.user.screen_name)\n",
        "  print(tweet.user.location)\n",
        "  print('-----------------')"
      ],
      "execution_count": 0,
      "outputs": []
    },
    {
      "cell_type": "code",
      "metadata": {
        "id": "VNZ2BiQXsyLU",
        "colab_type": "code",
        "outputId": "f085b9ac-42fe-49be-bff8-4e8416e39dde",
        "colab": {
          "base_uri": "https://localhost:8080/",
          "height": 1000
        }
      },
      "source": [
        "\n",
        "for tweet in tweets:\n",
        "  print(tweet.user.friends)\n",
        "  print(tweet.user.screen_name)\n",
        "  print(tweet.user.location)\n",
        "  print('-----------------')"
      ],
      "execution_count": 0,
      "outputs": [
        {
          "output_type": "stream",
          "text": [
            "<bound method User.friends of User(_api=<tweepy.api.API object at 0x7f1c674bc2b0>, _json={'id': 923614254275682304, 'id_str': '923614254275682304', 'name': 'Awari', 'screen_name': 'awarimentoria', 'location': 'Brazil', 'description': 'Aprenda habilidades em tecnologia na prática e com mentoria individual de profissionais da Disney, iFood, Work&Co, Nubank e mais.', 'url': 'https://t.co/qNX1pQ4fYU', 'entities': {'url': {'urls': [{'url': 'https://t.co/qNX1pQ4fYU', 'expanded_url': 'https://awari.com.br', 'display_url': 'awari.com.br', 'indices': [0, 23]}]}, 'description': {'urls': []}}, 'protected': False, 'followers_count': 50, 'friends_count': 1, 'listed_count': 0, 'created_at': 'Thu Oct 26 18:16:12 +0000 2017', 'favourites_count': 2, 'utc_offset': None, 'time_zone': None, 'geo_enabled': False, 'verified': False, 'statuses_count': 64, 'lang': None, 'contributors_enabled': False, 'is_translator': False, 'is_translation_enabled': False, 'profile_background_color': '000000', 'profile_background_image_url': 'http://abs.twimg.com/images/themes/theme1/bg.png', 'profile_background_image_url_https': 'https://abs.twimg.com/images/themes/theme1/bg.png', 'profile_background_tile': False, 'profile_image_url': 'http://pbs.twimg.com/profile_images/923614809261780993/z46Xd8jl_normal.jpg', 'profile_image_url_https': 'https://pbs.twimg.com/profile_images/923614809261780993/z46Xd8jl_normal.jpg', 'profile_banner_url': 'https://pbs.twimg.com/profile_banners/923614254275682304/1559850106', 'profile_link_color': '0088F2', 'profile_sidebar_border_color': '000000', 'profile_sidebar_fill_color': '000000', 'profile_text_color': '000000', 'profile_use_background_image': False, 'has_extended_profile': False, 'default_profile': False, 'default_profile_image': False, 'following': False, 'follow_request_sent': False, 'notifications': False, 'translator_type': 'none'}, id=923614254275682304, id_str='923614254275682304', name='Awari', screen_name='awarimentoria', location='Brazil', description='Aprenda habilidades em tecnologia na prática e com mentoria individual de profissionais da Disney, iFood, Work&Co, Nubank e mais.', url='https://t.co/qNX1pQ4fYU', entities={'url': {'urls': [{'url': 'https://t.co/qNX1pQ4fYU', 'expanded_url': 'https://awari.com.br', 'display_url': 'awari.com.br', 'indices': [0, 23]}]}, 'description': {'urls': []}}, protected=False, followers_count=50, friends_count=1, listed_count=0, created_at=datetime.datetime(2017, 10, 26, 18, 16, 12), favourites_count=2, utc_offset=None, time_zone=None, geo_enabled=False, verified=False, statuses_count=64, lang=None, contributors_enabled=False, is_translator=False, is_translation_enabled=False, profile_background_color='000000', profile_background_image_url='http://abs.twimg.com/images/themes/theme1/bg.png', profile_background_image_url_https='https://abs.twimg.com/images/themes/theme1/bg.png', profile_background_tile=False, profile_image_url='http://pbs.twimg.com/profile_images/923614809261780993/z46Xd8jl_normal.jpg', profile_image_url_https='https://pbs.twimg.com/profile_images/923614809261780993/z46Xd8jl_normal.jpg', profile_banner_url='https://pbs.twimg.com/profile_banners/923614254275682304/1559850106', profile_link_color='0088F2', profile_sidebar_border_color='000000', profile_sidebar_fill_color='000000', profile_text_color='000000', profile_use_background_image=False, has_extended_profile=False, default_profile=False, default_profile_image=False, following=False, follow_request_sent=False, notifications=False, translator_type='none')>\n",
            "awarimentoria\n",
            "Brazil\n",
            "-----------------\n",
            "<bound method User.friends of User(_api=<tweepy.api.API object at 0x7f1c674bc2b0>, _json={'id': 731441449296924672, 'id_str': '731441449296924672', 'name': 'Bombeiro da SM', 'screen_name': 'vnmjinki', 'location': '1° igreja lee jinkiana do 🇧🇷', 'description': 'Isso era pra ser so uma fanacc, mas tenho preguiça de voltar pra minha conta de \"adulto\".', 'url': None, 'entities': {'description': {'urls': []}}, 'protected': False, 'followers_count': 769, 'friends_count': 475, 'listed_count': 8, 'created_at': 'Sat May 14 11:10:05 +0000 2016', 'favourites_count': 24794, 'utc_offset': None, 'time_zone': None, 'geo_enabled': True, 'verified': False, 'statuses_count': 83664, 'lang': None, 'contributors_enabled': False, 'is_translator': False, 'is_translation_enabled': False, 'profile_background_color': '000000', 'profile_background_image_url': 'http://abs.twimg.com/images/themes/theme1/bg.png', 'profile_background_image_url_https': 'https://abs.twimg.com/images/themes/theme1/bg.png', 'profile_background_tile': False, 'profile_image_url': 'http://pbs.twimg.com/profile_images/1175259011156992000/Bxv7vUvX_normal.jpg', 'profile_image_url_https': 'https://pbs.twimg.com/profile_images/1175259011156992000/Bxv7vUvX_normal.jpg', 'profile_banner_url': 'https://pbs.twimg.com/profile_banners/731441449296924672/1522637798', 'profile_link_color': '7FDBB6', 'profile_sidebar_border_color': '000000', 'profile_sidebar_fill_color': '000000', 'profile_text_color': '000000', 'profile_use_background_image': False, 'has_extended_profile': True, 'default_profile': False, 'default_profile_image': False, 'following': False, 'follow_request_sent': False, 'notifications': False, 'translator_type': 'none'}, id=731441449296924672, id_str='731441449296924672', name='Bombeiro da SM', screen_name='vnmjinki', location='1° igreja lee jinkiana do 🇧🇷', description='Isso era pra ser so uma fanacc, mas tenho preguiça de voltar pra minha conta de \"adulto\".', url=None, entities={'description': {'urls': []}}, protected=False, followers_count=769, friends_count=475, listed_count=8, created_at=datetime.datetime(2016, 5, 14, 11, 10, 5), favourites_count=24794, utc_offset=None, time_zone=None, geo_enabled=True, verified=False, statuses_count=83664, lang=None, contributors_enabled=False, is_translator=False, is_translation_enabled=False, profile_background_color='000000', profile_background_image_url='http://abs.twimg.com/images/themes/theme1/bg.png', profile_background_image_url_https='https://abs.twimg.com/images/themes/theme1/bg.png', profile_background_tile=False, profile_image_url='http://pbs.twimg.com/profile_images/1175259011156992000/Bxv7vUvX_normal.jpg', profile_image_url_https='https://pbs.twimg.com/profile_images/1175259011156992000/Bxv7vUvX_normal.jpg', profile_banner_url='https://pbs.twimg.com/profile_banners/731441449296924672/1522637798', profile_link_color='7FDBB6', profile_sidebar_border_color='000000', profile_sidebar_fill_color='000000', profile_text_color='000000', profile_use_background_image=False, has_extended_profile=True, default_profile=False, default_profile_image=False, following=False, follow_request_sent=False, notifications=False, translator_type='none')>\n",
            "vnmjinki\n",
            "1° igreja lee jinkiana do 🇧🇷\n",
            "-----------------\n",
            "<bound method User.friends of User(_api=<tweepy.api.API object at 0x7f1c674bc2b0>, _json={'id': 4764782551, 'id_str': '4764782551', 'name': 'sevs', 'screen_name': 's3v_s', 'location': 'Sao Paulo, Brazil', 'description': 'All work and no play makes sevs a dull boy', 'url': None, 'entities': {'description': {'urls': []}}, 'protected': False, 'followers_count': 21, 'friends_count': 40, 'listed_count': 0, 'created_at': 'Fri Jan 15 21:31:30 +0000 2016', 'favourites_count': 517, 'utc_offset': None, 'time_zone': None, 'geo_enabled': False, 'verified': False, 'statuses_count': 335, 'lang': None, 'contributors_enabled': False, 'is_translator': False, 'is_translation_enabled': False, 'profile_background_color': 'F5F8FA', 'profile_background_image_url': None, 'profile_background_image_url_https': None, 'profile_background_tile': False, 'profile_image_url': 'http://pbs.twimg.com/profile_images/1145410253481291783/YZ0N6JvG_normal.jpg', 'profile_image_url_https': 'https://pbs.twimg.com/profile_images/1145410253481291783/YZ0N6JvG_normal.jpg', 'profile_link_color': '1DA1F2', 'profile_sidebar_border_color': 'C0DEED', 'profile_sidebar_fill_color': 'DDEEF6', 'profile_text_color': '333333', 'profile_use_background_image': True, 'has_extended_profile': True, 'default_profile': True, 'default_profile_image': False, 'following': False, 'follow_request_sent': False, 'notifications': False, 'translator_type': 'none'}, id=4764782551, id_str='4764782551', name='sevs', screen_name='s3v_s', location='Sao Paulo, Brazil', description='All work and no play makes sevs a dull boy', url=None, entities={'description': {'urls': []}}, protected=False, followers_count=21, friends_count=40, listed_count=0, created_at=datetime.datetime(2016, 1, 15, 21, 31, 30), favourites_count=517, utc_offset=None, time_zone=None, geo_enabled=False, verified=False, statuses_count=335, lang=None, contributors_enabled=False, is_translator=False, is_translation_enabled=False, profile_background_color='F5F8FA', profile_background_image_url=None, profile_background_image_url_https=None, profile_background_tile=False, profile_image_url='http://pbs.twimg.com/profile_images/1145410253481291783/YZ0N6JvG_normal.jpg', profile_image_url_https='https://pbs.twimg.com/profile_images/1145410253481291783/YZ0N6JvG_normal.jpg', profile_link_color='1DA1F2', profile_sidebar_border_color='C0DEED', profile_sidebar_fill_color='DDEEF6', profile_text_color='333333', profile_use_background_image=True, has_extended_profile=True, default_profile=True, default_profile_image=False, following=False, follow_request_sent=False, notifications=False, translator_type='none')>\n",
            "s3v_s\n",
            "Sao Paulo, Brazil\n",
            "-----------------\n",
            "<bound method User.friends of User(_api=<tweepy.api.API object at 0x7f1c674bc2b0>, _json={'id': 1049283755129667585, 'id_str': '1049283755129667585', 'name': 'Deividi Pansera', 'screen_name': 'DeividiPansera', 'location': '', 'description': 'Ph.D em matemática. Apaixonado por Cultura Ocidental, Vida Intelectual, Religião, Filosofia, Ciência e AI. Noivo da @carolinagnelli.', 'url': None, 'entities': {'description': {'urls': []}}, 'protected': False, 'followers_count': 15, 'friends_count': 119, 'listed_count': 1, 'created_at': 'Mon Oct 08 13:01:56 +0000 2018', 'favourites_count': 466, 'utc_offset': None, 'time_zone': None, 'geo_enabled': False, 'verified': False, 'statuses_count': 68, 'lang': None, 'contributors_enabled': False, 'is_translator': False, 'is_translation_enabled': False, 'profile_background_color': 'F5F8FA', 'profile_background_image_url': None, 'profile_background_image_url_https': None, 'profile_background_tile': False, 'profile_image_url': 'http://pbs.twimg.com/profile_images/1049286816887705602/hyxyY-Oy_normal.jpg', 'profile_image_url_https': 'https://pbs.twimg.com/profile_images/1049286816887705602/hyxyY-Oy_normal.jpg', 'profile_banner_url': 'https://pbs.twimg.com/profile_banners/1049283755129667585/1539176572', 'profile_link_color': '1DA1F2', 'profile_sidebar_border_color': 'C0DEED', 'profile_sidebar_fill_color': 'DDEEF6', 'profile_text_color': '333333', 'profile_use_background_image': True, 'has_extended_profile': True, 'default_profile': True, 'default_profile_image': False, 'following': False, 'follow_request_sent': False, 'notifications': False, 'translator_type': 'none'}, id=1049283755129667585, id_str='1049283755129667585', name='Deividi Pansera', screen_name='DeividiPansera', location='', description='Ph.D em matemática. Apaixonado por Cultura Ocidental, Vida Intelectual, Religião, Filosofia, Ciência e AI. Noivo da @carolinagnelli.', url=None, entities={'description': {'urls': []}}, protected=False, followers_count=15, friends_count=119, listed_count=1, created_at=datetime.datetime(2018, 10, 8, 13, 1, 56), favourites_count=466, utc_offset=None, time_zone=None, geo_enabled=False, verified=False, statuses_count=68, lang=None, contributors_enabled=False, is_translator=False, is_translation_enabled=False, profile_background_color='F5F8FA', profile_background_image_url=None, profile_background_image_url_https=None, profile_background_tile=False, profile_image_url='http://pbs.twimg.com/profile_images/1049286816887705602/hyxyY-Oy_normal.jpg', profile_image_url_https='https://pbs.twimg.com/profile_images/1049286816887705602/hyxyY-Oy_normal.jpg', profile_banner_url='https://pbs.twimg.com/profile_banners/1049283755129667585/1539176572', profile_link_color='1DA1F2', profile_sidebar_border_color='C0DEED', profile_sidebar_fill_color='DDEEF6', profile_text_color='333333', profile_use_background_image=True, has_extended_profile=True, default_profile=True, default_profile_image=False, following=False, follow_request_sent=False, notifications=False, translator_type='none')>\n",
            "DeividiPansera\n",
            "\n",
            "-----------------\n",
            "<bound method User.friends of User(_api=<tweepy.api.API object at 0x7f1c674bc2b0>, _json={'id': 1194681350391025666, 'id_str': '1194681350391025666', 'name': 'Neuromath', 'screen_name': 'NeuromathAi', 'location': 'Curitiba/PR - Brazil', 'description': 'Complex business problems being solved with applications of artificial and human intelligence.', 'url': 'https://t.co/0wkNk3y4jg', 'entities': {'url': {'urls': [{'url': 'https://t.co/0wkNk3y4jg', 'expanded_url': 'http://www.neuromath.com.br', 'display_url': 'neuromath.com.br', 'indices': [0, 23]}]}, 'description': {'urls': []}}, 'protected': False, 'followers_count': 2, 'friends_count': 0, 'listed_count': 0, 'created_at': 'Wed Nov 13 18:20:45 +0000 2019', 'favourites_count': 0, 'utc_offset': None, 'time_zone': None, 'geo_enabled': False, 'verified': False, 'statuses_count': 1, 'lang': None, 'contributors_enabled': False, 'is_translator': False, 'is_translation_enabled': False, 'profile_background_color': 'F5F8FA', 'profile_background_image_url': None, 'profile_background_image_url_https': None, 'profile_background_tile': False, 'profile_image_url': 'http://pbs.twimg.com/profile_images/1194681562245279745/qfaJGcvX_normal.png', 'profile_image_url_https': 'https://pbs.twimg.com/profile_images/1194681562245279745/qfaJGcvX_normal.png', 'profile_banner_url': 'https://pbs.twimg.com/profile_banners/1194681350391025666/1573742474', 'profile_link_color': '1DA1F2', 'profile_sidebar_border_color': 'C0DEED', 'profile_sidebar_fill_color': 'DDEEF6', 'profile_text_color': '333333', 'profile_use_background_image': True, 'has_extended_profile': False, 'default_profile': True, 'default_profile_image': False, 'following': False, 'follow_request_sent': False, 'notifications': False, 'translator_type': 'none'}, id=1194681350391025666, id_str='1194681350391025666', name='Neuromath', screen_name='NeuromathAi', location='Curitiba/PR - Brazil', description='Complex business problems being solved with applications of artificial and human intelligence.', url='https://t.co/0wkNk3y4jg', entities={'url': {'urls': [{'url': 'https://t.co/0wkNk3y4jg', 'expanded_url': 'http://www.neuromath.com.br', 'display_url': 'neuromath.com.br', 'indices': [0, 23]}]}, 'description': {'urls': []}}, protected=False, followers_count=2, friends_count=0, listed_count=0, created_at=datetime.datetime(2019, 11, 13, 18, 20, 45), favourites_count=0, utc_offset=None, time_zone=None, geo_enabled=False, verified=False, statuses_count=1, lang=None, contributors_enabled=False, is_translator=False, is_translation_enabled=False, profile_background_color='F5F8FA', profile_background_image_url=None, profile_background_image_url_https=None, profile_background_tile=False, profile_image_url='http://pbs.twimg.com/profile_images/1194681562245279745/qfaJGcvX_normal.png', profile_image_url_https='https://pbs.twimg.com/profile_images/1194681562245279745/qfaJGcvX_normal.png', profile_banner_url='https://pbs.twimg.com/profile_banners/1194681350391025666/1573742474', profile_link_color='1DA1F2', profile_sidebar_border_color='C0DEED', profile_sidebar_fill_color='DDEEF6', profile_text_color='333333', profile_use_background_image=True, has_extended_profile=False, default_profile=True, default_profile_image=False, following=False, follow_request_sent=False, notifications=False, translator_type='none')>\n",
            "NeuromathAi\n",
            "Curitiba/PR - Brazil\n",
            "-----------------\n",
            "<bound method User.friends of User(_api=<tweepy.api.API object at 0x7f1c674bc2b0>, _json={'id': 1103948580, 'id_str': '1103948580', 'name': 'emilio', 'screen_name': 'emiliowerner', 'location': 'Araranguá', 'description': 'Computer engineering', 'url': None, 'entities': {'description': {'urls': []}}, 'protected': False, 'followers_count': 125, 'friends_count': 118, 'listed_count': 0, 'created_at': 'Sat Jan 19 15:28:58 +0000 2013', 'favourites_count': 547, 'utc_offset': None, 'time_zone': None, 'geo_enabled': True, 'verified': False, 'statuses_count': 248, 'lang': None, 'contributors_enabled': False, 'is_translator': False, 'is_translation_enabled': False, 'profile_background_color': 'C0DEED', 'profile_background_image_url': 'http://abs.twimg.com/images/themes/theme1/bg.png', 'profile_background_image_url_https': 'https://abs.twimg.com/images/themes/theme1/bg.png', 'profile_background_tile': True, 'profile_image_url': 'http://pbs.twimg.com/profile_images/1193922752752820227/TUVinacd_normal.jpg', 'profile_image_url_https': 'https://pbs.twimg.com/profile_images/1193922752752820227/TUVinacd_normal.jpg', 'profile_banner_url': 'https://pbs.twimg.com/profile_banners/1103948580/1560347133', 'profile_link_color': '9266CC', 'profile_sidebar_border_color': 'FFFFFF', 'profile_sidebar_fill_color': 'DDEEF6', 'profile_text_color': '333333', 'profile_use_background_image': True, 'has_extended_profile': True, 'default_profile': False, 'default_profile_image': False, 'following': False, 'follow_request_sent': False, 'notifications': False, 'translator_type': 'none'}, id=1103948580, id_str='1103948580', name='emilio', screen_name='emiliowerner', location='Araranguá', description='Computer engineering', url=None, entities={'description': {'urls': []}}, protected=False, followers_count=125, friends_count=118, listed_count=0, created_at=datetime.datetime(2013, 1, 19, 15, 28, 58), favourites_count=547, utc_offset=None, time_zone=None, geo_enabled=True, verified=False, statuses_count=248, lang=None, contributors_enabled=False, is_translator=False, is_translation_enabled=False, profile_background_color='C0DEED', profile_background_image_url='http://abs.twimg.com/images/themes/theme1/bg.png', profile_background_image_url_https='https://abs.twimg.com/images/themes/theme1/bg.png', profile_background_tile=True, profile_image_url='http://pbs.twimg.com/profile_images/1193922752752820227/TUVinacd_normal.jpg', profile_image_url_https='https://pbs.twimg.com/profile_images/1193922752752820227/TUVinacd_normal.jpg', profile_banner_url='https://pbs.twimg.com/profile_banners/1103948580/1560347133', profile_link_color='9266CC', profile_sidebar_border_color='FFFFFF', profile_sidebar_fill_color='DDEEF6', profile_text_color='333333', profile_use_background_image=True, has_extended_profile=True, default_profile=False, default_profile_image=False, following=False, follow_request_sent=False, notifications=False, translator_type='none')>\n",
            "emiliowerner\n",
            "Araranguá\n",
            "-----------------\n",
            "<bound method User.friends of User(_api=<tweepy.api.API object at 0x7f1c674bc2b0>, _json={'id': 55903101, 'id_str': '55903101', 'name': 'Flagrare 🔥 0/50.000 (#NaNoWriMo)', 'screen_name': 'Flagrare', 'location': 'Fëahror ℵ | contato@flagrare.com.br', 'description': '☉ Aspirante a escritor, argonauta na @FlagrareInd, mago na @GrimoriumApp, piromaníaco na @ATAR365 e Mestre de Masmorra no @historiativa. Multipotencialista. 火', 'url': 'https://t.co/U8JLdiSzXe', 'entities': {'url': {'urls': [{'url': 'https://t.co/U8JLdiSzXe', 'expanded_url': 'http://www.flagrare.com.br', 'display_url': 'flagrare.com.br', 'indices': [0, 23]}]}, 'description': {'urls': []}}, 'protected': False, 'followers_count': 1483, 'friends_count': 1205, 'listed_count': 42, 'created_at': 'Sat Jul 11 19:09:35 +0000 2009', 'favourites_count': 36038, 'utc_offset': None, 'time_zone': None, 'geo_enabled': True, 'verified': False, 'statuses_count': 200772, 'lang': None, 'contributors_enabled': False, 'is_translator': False, 'is_translation_enabled': False, 'profile_background_color': '000000', 'profile_background_image_url': 'http://abs.twimg.com/images/themes/theme9/bg.gif', 'profile_background_image_url_https': 'https://abs.twimg.com/images/themes/theme9/bg.gif', 'profile_background_tile': False, 'profile_image_url': 'http://pbs.twimg.com/profile_images/1170092565166772224/K22YcbX5_normal.jpg', 'profile_image_url_https': 'https://pbs.twimg.com/profile_images/1170092565166772224/K22YcbX5_normal.jpg', 'profile_banner_url': 'https://pbs.twimg.com/profile_banners/55903101/1546198110', 'profile_link_color': 'FF691F', 'profile_sidebar_border_color': 'FFFFFF', 'profile_sidebar_fill_color': '424042', 'profile_text_color': 'B0A7B0', 'profile_use_background_image': True, 'has_extended_profile': True, 'default_profile': False, 'default_profile_image': False, 'following': False, 'follow_request_sent': False, 'notifications': False, 'translator_type': 'regular'}, id=55903101, id_str='55903101', name='Flagrare 🔥 0/50.000 (#NaNoWriMo)', screen_name='Flagrare', location='Fëahror ℵ | contato@flagrare.com.br', description='☉ Aspirante a escritor, argonauta na @FlagrareInd, mago na @GrimoriumApp, piromaníaco na @ATAR365 e Mestre de Masmorra no @historiativa. Multipotencialista. 火', url='https://t.co/U8JLdiSzXe', entities={'url': {'urls': [{'url': 'https://t.co/U8JLdiSzXe', 'expanded_url': 'http://www.flagrare.com.br', 'display_url': 'flagrare.com.br', 'indices': [0, 23]}]}, 'description': {'urls': []}}, protected=False, followers_count=1483, friends_count=1205, listed_count=42, created_at=datetime.datetime(2009, 7, 11, 19, 9, 35), favourites_count=36038, utc_offset=None, time_zone=None, geo_enabled=True, verified=False, statuses_count=200772, lang=None, contributors_enabled=False, is_translator=False, is_translation_enabled=False, profile_background_color='000000', profile_background_image_url='http://abs.twimg.com/images/themes/theme9/bg.gif', profile_background_image_url_https='https://abs.twimg.com/images/themes/theme9/bg.gif', profile_background_tile=False, profile_image_url='http://pbs.twimg.com/profile_images/1170092565166772224/K22YcbX5_normal.jpg', profile_image_url_https='https://pbs.twimg.com/profile_images/1170092565166772224/K22YcbX5_normal.jpg', profile_banner_url='https://pbs.twimg.com/profile_banners/55903101/1546198110', profile_link_color='FF691F', profile_sidebar_border_color='FFFFFF', profile_sidebar_fill_color='424042', profile_text_color='B0A7B0', profile_use_background_image=True, has_extended_profile=True, default_profile=False, default_profile_image=False, following=False, follow_request_sent=False, notifications=False, translator_type='regular')>\n",
            "Flagrare\n",
            "Fëahror ℵ | contato@flagrare.com.br\n",
            "-----------------\n",
            "<bound method User.friends of User(_api=<tweepy.api.API object at 0x7f1c674bc2b0>, _json={'id': 731441449296924672, 'id_str': '731441449296924672', 'name': 'Bombeiro da SM', 'screen_name': 'vnmjinki', 'location': '1° igreja lee jinkiana do 🇧🇷', 'description': 'Isso era pra ser so uma fanacc, mas tenho preguiça de voltar pra minha conta de \"adulto\".', 'url': None, 'entities': {'description': {'urls': []}}, 'protected': False, 'followers_count': 769, 'friends_count': 475, 'listed_count': 8, 'created_at': 'Sat May 14 11:10:05 +0000 2016', 'favourites_count': 24794, 'utc_offset': None, 'time_zone': None, 'geo_enabled': True, 'verified': False, 'statuses_count': 83664, 'lang': None, 'contributors_enabled': False, 'is_translator': False, 'is_translation_enabled': False, 'profile_background_color': '000000', 'profile_background_image_url': 'http://abs.twimg.com/images/themes/theme1/bg.png', 'profile_background_image_url_https': 'https://abs.twimg.com/images/themes/theme1/bg.png', 'profile_background_tile': False, 'profile_image_url': 'http://pbs.twimg.com/profile_images/1175259011156992000/Bxv7vUvX_normal.jpg', 'profile_image_url_https': 'https://pbs.twimg.com/profile_images/1175259011156992000/Bxv7vUvX_normal.jpg', 'profile_banner_url': 'https://pbs.twimg.com/profile_banners/731441449296924672/1522637798', 'profile_link_color': '7FDBB6', 'profile_sidebar_border_color': '000000', 'profile_sidebar_fill_color': '000000', 'profile_text_color': '000000', 'profile_use_background_image': False, 'has_extended_profile': True, 'default_profile': False, 'default_profile_image': False, 'following': False, 'follow_request_sent': False, 'notifications': False, 'translator_type': 'none'}, id=731441449296924672, id_str='731441449296924672', name='Bombeiro da SM', screen_name='vnmjinki', location='1° igreja lee jinkiana do 🇧🇷', description='Isso era pra ser so uma fanacc, mas tenho preguiça de voltar pra minha conta de \"adulto\".', url=None, entities={'description': {'urls': []}}, protected=False, followers_count=769, friends_count=475, listed_count=8, created_at=datetime.datetime(2016, 5, 14, 11, 10, 5), favourites_count=24794, utc_offset=None, time_zone=None, geo_enabled=True, verified=False, statuses_count=83664, lang=None, contributors_enabled=False, is_translator=False, is_translation_enabled=False, profile_background_color='000000', profile_background_image_url='http://abs.twimg.com/images/themes/theme1/bg.png', profile_background_image_url_https='https://abs.twimg.com/images/themes/theme1/bg.png', profile_background_tile=False, profile_image_url='http://pbs.twimg.com/profile_images/1175259011156992000/Bxv7vUvX_normal.jpg', profile_image_url_https='https://pbs.twimg.com/profile_images/1175259011156992000/Bxv7vUvX_normal.jpg', profile_banner_url='https://pbs.twimg.com/profile_banners/731441449296924672/1522637798', profile_link_color='7FDBB6', profile_sidebar_border_color='000000', profile_sidebar_fill_color='000000', profile_text_color='000000', profile_use_background_image=False, has_extended_profile=True, default_profile=False, default_profile_image=False, following=False, follow_request_sent=False, notifications=False, translator_type='none')>\n",
            "vnmjinki\n",
            "1° igreja lee jinkiana do 🇧🇷\n",
            "-----------------\n",
            "<bound method User.friends of User(_api=<tweepy.api.API object at 0x7f1c674bc2b0>, _json={'id': 37809901, 'id_str': '37809901', 'name': 'Ana', 'screen_name': 'PaulaSimiqueli', 'location': 'Campinas, Brasil', 'description': 'Coffee, music, books, tv shows and technology.', 'url': None, 'entities': {'description': {'urls': []}}, 'protected': False, 'followers_count': 5249, 'friends_count': 2384, 'listed_count': 930, 'created_at': 'Tue May 05 00:42:57 +0000 2009', 'favourites_count': 1093, 'utc_offset': None, 'time_zone': None, 'geo_enabled': True, 'verified': False, 'statuses_count': 68076, 'lang': None, 'contributors_enabled': False, 'is_translator': False, 'is_translation_enabled': False, 'profile_background_color': 'FFFFFF', 'profile_background_image_url': 'http://abs.twimg.com/images/themes/theme14/bg.gif', 'profile_background_image_url_https': 'https://abs.twimg.com/images/themes/theme14/bg.gif', 'profile_background_tile': True, 'profile_image_url': 'http://pbs.twimg.com/profile_images/968292365730447360/-dMI0y8__normal.jpg', 'profile_image_url_https': 'https://pbs.twimg.com/profile_images/968292365730447360/-dMI0y8__normal.jpg', 'profile_banner_url': 'https://pbs.twimg.com/profile_banners/37809901/1437594824', 'profile_link_color': '0A0A0A', 'profile_sidebar_border_color': 'FFFFFF', 'profile_sidebar_fill_color': 'EFEFEF', 'profile_text_color': '333333', 'profile_use_background_image': True, 'has_extended_profile': True, 'default_profile': False, 'default_profile_image': False, 'following': False, 'follow_request_sent': False, 'notifications': False, 'translator_type': 'none'}, id=37809901, id_str='37809901', name='Ana', screen_name='PaulaSimiqueli', location='Campinas, Brasil', description='Coffee, music, books, tv shows and technology.', url=None, entities={'description': {'urls': []}}, protected=False, followers_count=5249, friends_count=2384, listed_count=930, created_at=datetime.datetime(2009, 5, 5, 0, 42, 57), favourites_count=1093, utc_offset=None, time_zone=None, geo_enabled=True, verified=False, statuses_count=68076, lang=None, contributors_enabled=False, is_translator=False, is_translation_enabled=False, profile_background_color='FFFFFF', profile_background_image_url='http://abs.twimg.com/images/themes/theme14/bg.gif', profile_background_image_url_https='https://abs.twimg.com/images/themes/theme14/bg.gif', profile_background_tile=True, profile_image_url='http://pbs.twimg.com/profile_images/968292365730447360/-dMI0y8__normal.jpg', profile_image_url_https='https://pbs.twimg.com/profile_images/968292365730447360/-dMI0y8__normal.jpg', profile_banner_url='https://pbs.twimg.com/profile_banners/37809901/1437594824', profile_link_color='0A0A0A', profile_sidebar_border_color='FFFFFF', profile_sidebar_fill_color='EFEFEF', profile_text_color='333333', profile_use_background_image=True, has_extended_profile=True, default_profile=False, default_profile_image=False, following=False, follow_request_sent=False, notifications=False, translator_type='none')>\n",
            "PaulaSimiqueli\n",
            "Campinas, Brasil\n",
            "-----------------\n",
            "<bound method User.friends of User(_api=<tweepy.api.API object at 0x7f1c674bc2b0>, _json={'id': 3391375907, 'id_str': '3391375907', 'name': 'Aumentativo de Helena PyAlho™', 'screen_name': 'dii_lua', 'location': 'São José dos Campos, Brasil', 'description': 'Cientista de Dados, desenvolvedora no @colaboradados, pesquisadora no INPE, podcaster do Coluna7, PyLady e escritora na horas vagas. Vamos juntas?\\nshe/her', 'url': 'https://t.co/mRdAVnmpj6', 'entities': {'url': {'urls': [{'url': 'https://t.co/mRdAVnmpj6', 'expanded_url': 'http://leticiadasilva.github.io', 'display_url': 'leticiadasilva.github.io', 'indices': [0, 23]}]}, 'description': {'urls': []}}, 'protected': False, 'followers_count': 4677, 'friends_count': 877, 'listed_count': 49, 'created_at': 'Tue Jul 28 02:57:45 +0000 2015', 'favourites_count': 21117, 'utc_offset': None, 'time_zone': None, 'geo_enabled': True, 'verified': False, 'statuses_count': 11331, 'lang': None, 'contributors_enabled': False, 'is_translator': False, 'is_translation_enabled': False, 'profile_background_color': '000000', 'profile_background_image_url': 'http://abs.twimg.com/images/themes/theme1/bg.png', 'profile_background_image_url_https': 'https://abs.twimg.com/images/themes/theme1/bg.png', 'profile_background_tile': False, 'profile_image_url': 'http://pbs.twimg.com/profile_images/1188783096151400448/Eyn-MLM-_normal.jpg', 'profile_image_url_https': 'https://pbs.twimg.com/profile_images/1188783096151400448/Eyn-MLM-_normal.jpg', 'profile_banner_url': 'https://pbs.twimg.com/profile_banners/3391375907/1572262868', 'profile_link_color': 'E81C4F', 'profile_sidebar_border_color': '000000', 'profile_sidebar_fill_color': '000000', 'profile_text_color': '000000', 'profile_use_background_image': False, 'has_extended_profile': True, 'default_profile': False, 'default_profile_image': False, 'following': False, 'follow_request_sent': False, 'notifications': False, 'translator_type': 'none'}, id=3391375907, id_str='3391375907', name='Aumentativo de Helena PyAlho™', screen_name='dii_lua', location='São José dos Campos, Brasil', description='Cientista de Dados, desenvolvedora no @colaboradados, pesquisadora no INPE, podcaster do Coluna7, PyLady e escritora na horas vagas. Vamos juntas?\\nshe/her', url='https://t.co/mRdAVnmpj6', entities={'url': {'urls': [{'url': 'https://t.co/mRdAVnmpj6', 'expanded_url': 'http://leticiadasilva.github.io', 'display_url': 'leticiadasilva.github.io', 'indices': [0, 23]}]}, 'description': {'urls': []}}, protected=False, followers_count=4677, friends_count=877, listed_count=49, created_at=datetime.datetime(2015, 7, 28, 2, 57, 45), favourites_count=21117, utc_offset=None, time_zone=None, geo_enabled=True, verified=False, statuses_count=11331, lang=None, contributors_enabled=False, is_translator=False, is_translation_enabled=False, profile_background_color='000000', profile_background_image_url='http://abs.twimg.com/images/themes/theme1/bg.png', profile_background_image_url_https='https://abs.twimg.com/images/themes/theme1/bg.png', profile_background_tile=False, profile_image_url='http://pbs.twimg.com/profile_images/1188783096151400448/Eyn-MLM-_normal.jpg', profile_image_url_https='https://pbs.twimg.com/profile_images/1188783096151400448/Eyn-MLM-_normal.jpg', profile_banner_url='https://pbs.twimg.com/profile_banners/3391375907/1572262868', profile_link_color='E81C4F', profile_sidebar_border_color='000000', profile_sidebar_fill_color='000000', profile_text_color='000000', profile_use_background_image=False, has_extended_profile=True, default_profile=False, default_profile_image=False, following=False, follow_request_sent=False, notifications=False, translator_type='none')>\n",
            "dii_lua\n",
            "São José dos Campos, Brasil\n",
            "-----------------\n",
            "<bound method User.friends of User(_api=<tweepy.api.API object at 0x7f1c674bc2b0>, _json={'id': 1085237473, 'id_str': '1085237473', 'name': 'GDG Campinas', 'screen_name': 'gdgcampinas', 'location': 'Campinas-SP', 'description': 'Somos parte de um programa do Google sendo atualmente 1 de mais de 603 comunidades espalhadas pelo mundo.', 'url': 'https://t.co/UnL1t4AyVg', 'entities': {'url': {'urls': [{'url': 'https://t.co/UnL1t4AyVg', 'expanded_url': 'https://www.meetup.com/gdgcampinas/', 'display_url': 'meetup.com/gdgcampinas/', 'indices': [0, 23]}]}, 'description': {'urls': []}}, 'protected': False, 'followers_count': 404, 'friends_count': 285, 'listed_count': 15, 'created_at': 'Sun Jan 13 06:43:40 +0000 2013', 'favourites_count': 208, 'utc_offset': None, 'time_zone': None, 'geo_enabled': True, 'verified': False, 'statuses_count': 421, 'lang': None, 'contributors_enabled': False, 'is_translator': False, 'is_translation_enabled': False, 'profile_background_color': 'C0DEED', 'profile_background_image_url': 'http://abs.twimg.com/images/themes/theme1/bg.png', 'profile_background_image_url_https': 'https://abs.twimg.com/images/themes/theme1/bg.png', 'profile_background_tile': False, 'profile_image_url': 'http://pbs.twimg.com/profile_images/3104639633/6f98c5f86637297b13e62101014042f5_normal.png', 'profile_image_url_https': 'https://pbs.twimg.com/profile_images/3104639633/6f98c5f86637297b13e62101014042f5_normal.png', 'profile_link_color': '1DA1F2', 'profile_sidebar_border_color': 'C0DEED', 'profile_sidebar_fill_color': 'DDEEF6', 'profile_text_color': '333333', 'profile_use_background_image': True, 'has_extended_profile': False, 'default_profile': True, 'default_profile_image': False, 'following': False, 'follow_request_sent': False, 'notifications': False, 'translator_type': 'none'}, id=1085237473, id_str='1085237473', name='GDG Campinas', screen_name='gdgcampinas', location='Campinas-SP', description='Somos parte de um programa do Google sendo atualmente 1 de mais de 603 comunidades espalhadas pelo mundo.', url='https://t.co/UnL1t4AyVg', entities={'url': {'urls': [{'url': 'https://t.co/UnL1t4AyVg', 'expanded_url': 'https://www.meetup.com/gdgcampinas/', 'display_url': 'meetup.com/gdgcampinas/', 'indices': [0, 23]}]}, 'description': {'urls': []}}, protected=False, followers_count=404, friends_count=285, listed_count=15, created_at=datetime.datetime(2013, 1, 13, 6, 43, 40), favourites_count=208, utc_offset=None, time_zone=None, geo_enabled=True, verified=False, statuses_count=421, lang=None, contributors_enabled=False, is_translator=False, is_translation_enabled=False, profile_background_color='C0DEED', profile_background_image_url='http://abs.twimg.com/images/themes/theme1/bg.png', profile_background_image_url_https='https://abs.twimg.com/images/themes/theme1/bg.png', profile_background_tile=False, profile_image_url='http://pbs.twimg.com/profile_images/3104639633/6f98c5f86637297b13e62101014042f5_normal.png', profile_image_url_https='https://pbs.twimg.com/profile_images/3104639633/6f98c5f86637297b13e62101014042f5_normal.png', profile_link_color='1DA1F2', profile_sidebar_border_color='C0DEED', profile_sidebar_fill_color='DDEEF6', profile_text_color='333333', profile_use_background_image=True, has_extended_profile=False, default_profile=True, default_profile_image=False, following=False, follow_request_sent=False, notifications=False, translator_type='none')>\n",
            "gdgcampinas\n",
            "Campinas-SP\n",
            "-----------------\n",
            "<bound method User.friends of User(_api=<tweepy.api.API object at 0x7f1c674bc2b0>, _json={'id': 19539923, 'id_str': '19539923', 'name': 'dystopian mentalist', 'screen_name': 'JustBeMentalist', 'location': 'Shropshire', 'description': 'Mentalist: Behavioral Data hActivist, Writer & investigator. monitoring data-driven political & social manipulation #dataprivacy Animal & Human Rights Protector', 'url': 'https://t.co/yabJ8ODgf6', 'entities': {'url': {'urls': [{'url': 'https://t.co/yabJ8ODgf6', 'expanded_url': 'http://sleeplessdystopian.com', 'display_url': 'sleeplessdystopian.com', 'indices': [0, 23]}]}, 'description': {'urls': []}}, 'protected': False, 'followers_count': 2286, 'friends_count': 1108, 'listed_count': 88, 'created_at': 'Mon Jan 26 15:43:29 +0000 2009', 'favourites_count': 291, 'utc_offset': None, 'time_zone': None, 'geo_enabled': True, 'verified': False, 'statuses_count': 112670, 'lang': None, 'contributors_enabled': False, 'is_translator': False, 'is_translation_enabled': False, 'profile_background_color': '1A1B1F', 'profile_background_image_url': 'http://abs.twimg.com/images/themes/theme9/bg.gif', 'profile_background_image_url_https': 'https://abs.twimg.com/images/themes/theme9/bg.gif', 'profile_background_tile': False, 'profile_image_url': 'http://pbs.twimg.com/profile_images/687359419282239488/-12hV0wh_normal.jpg', 'profile_image_url_https': 'https://pbs.twimg.com/profile_images/687359419282239488/-12hV0wh_normal.jpg', 'profile_banner_url': 'https://pbs.twimg.com/profile_banners/19539923/1433070750', 'profile_link_color': '2FC2EF', 'profile_sidebar_border_color': '181A1E', 'profile_sidebar_fill_color': '252429', 'profile_text_color': '666666', 'profile_use_background_image': True, 'has_extended_profile': False, 'default_profile': False, 'default_profile_image': False, 'following': False, 'follow_request_sent': False, 'notifications': False, 'translator_type': 'none'}, id=19539923, id_str='19539923', name='dystopian mentalist', screen_name='JustBeMentalist', location='Shropshire', description='Mentalist: Behavioral Data hActivist, Writer & investigator. monitoring data-driven political & social manipulation #dataprivacy Animal & Human Rights Protector', url='https://t.co/yabJ8ODgf6', entities={'url': {'urls': [{'url': 'https://t.co/yabJ8ODgf6', 'expanded_url': 'http://sleeplessdystopian.com', 'display_url': 'sleeplessdystopian.com', 'indices': [0, 23]}]}, 'description': {'urls': []}}, protected=False, followers_count=2286, friends_count=1108, listed_count=88, created_at=datetime.datetime(2009, 1, 26, 15, 43, 29), favourites_count=291, utc_offset=None, time_zone=None, geo_enabled=True, verified=False, statuses_count=112670, lang=None, contributors_enabled=False, is_translator=False, is_translation_enabled=False, profile_background_color='1A1B1F', profile_background_image_url='http://abs.twimg.com/images/themes/theme9/bg.gif', profile_background_image_url_https='https://abs.twimg.com/images/themes/theme9/bg.gif', profile_background_tile=False, profile_image_url='http://pbs.twimg.com/profile_images/687359419282239488/-12hV0wh_normal.jpg', profile_image_url_https='https://pbs.twimg.com/profile_images/687359419282239488/-12hV0wh_normal.jpg', profile_banner_url='https://pbs.twimg.com/profile_banners/19539923/1433070750', profile_link_color='2FC2EF', profile_sidebar_border_color='181A1E', profile_sidebar_fill_color='252429', profile_text_color='666666', profile_use_background_image=True, has_extended_profile=False, default_profile=False, default_profile_image=False, following=False, follow_request_sent=False, notifications=False, translator_type='none')>\n",
            "JustBeMentalist\n",
            "Shropshire\n",
            "-----------------\n",
            "<bound method User.friends of User(_api=<tweepy.api.API object at 0x7f1c674bc2b0>, _json={'id': 990997255535591425, 'id_str': '990997255535591425', 'name': 'Sabrina Silva', 'screen_name': 'sgnslv', 'location': 'São José do Rio Preto, Brasil', 'description': 'dev, entusiasta de data science, vegetariana, feminista e #lulalivre. she/her.', 'url': None, 'entities': {'description': {'urls': []}}, 'protected': False, 'followers_count': 103, 'friends_count': 447, 'listed_count': 2, 'created_at': 'Mon Apr 30 16:52:12 +0000 2018', 'favourites_count': 8642, 'utc_offset': None, 'time_zone': None, 'geo_enabled': True, 'verified': False, 'statuses_count': 2297, 'lang': None, 'contributors_enabled': False, 'is_translator': False, 'is_translation_enabled': False, 'profile_background_color': '000000', 'profile_background_image_url': 'http://abs.twimg.com/images/themes/theme1/bg.png', 'profile_background_image_url_https': 'https://abs.twimg.com/images/themes/theme1/bg.png', 'profile_background_tile': False, 'profile_image_url': 'http://pbs.twimg.com/profile_images/1192542442316345350/dCovAcNU_normal.jpg', 'profile_image_url_https': 'https://pbs.twimg.com/profile_images/1192542442316345350/dCovAcNU_normal.jpg', 'profile_banner_url': 'https://pbs.twimg.com/profile_banners/990997255535591425/1573159221', 'profile_link_color': 'F58EA8', 'profile_sidebar_border_color': '000000', 'profile_sidebar_fill_color': '000000', 'profile_text_color': '000000', 'profile_use_background_image': False, 'has_extended_profile': True, 'default_profile': False, 'default_profile_image': False, 'following': False, 'follow_request_sent': False, 'notifications': False, 'translator_type': 'none'}, id=990997255535591425, id_str='990997255535591425', name='Sabrina Silva', screen_name='sgnslv', location='São José do Rio Preto, Brasil', description='dev, entusiasta de data science, vegetariana, feminista e #lulalivre. she/her.', url=None, entities={'description': {'urls': []}}, protected=False, followers_count=103, friends_count=447, listed_count=2, created_at=datetime.datetime(2018, 4, 30, 16, 52, 12), favourites_count=8642, utc_offset=None, time_zone=None, geo_enabled=True, verified=False, statuses_count=2297, lang=None, contributors_enabled=False, is_translator=False, is_translation_enabled=False, profile_background_color='000000', profile_background_image_url='http://abs.twimg.com/images/themes/theme1/bg.png', profile_background_image_url_https='https://abs.twimg.com/images/themes/theme1/bg.png', profile_background_tile=False, profile_image_url='http://pbs.twimg.com/profile_images/1192542442316345350/dCovAcNU_normal.jpg', profile_image_url_https='https://pbs.twimg.com/profile_images/1192542442316345350/dCovAcNU_normal.jpg', profile_banner_url='https://pbs.twimg.com/profile_banners/990997255535591425/1573159221', profile_link_color='F58EA8', profile_sidebar_border_color='000000', profile_sidebar_fill_color='000000', profile_text_color='000000', profile_use_background_image=False, has_extended_profile=True, default_profile=False, default_profile_image=False, following=False, follow_request_sent=False, notifications=False, translator_type='none')>\n",
            "sgnslv\n",
            "São José do Rio Preto, Brasil\n",
            "-----------------\n",
            "<bound method User.friends of User(_api=<tweepy.api.API object at 0x7f1c674bc2b0>, _json={'id': 19539923, 'id_str': '19539923', 'name': 'dystopian mentalist', 'screen_name': 'JustBeMentalist', 'location': 'Shropshire', 'description': 'Mentalist: Behavioral Data hActivist, Writer & investigator. monitoring data-driven political & social manipulation #dataprivacy Animal & Human Rights Protector', 'url': 'https://t.co/yabJ8ODgf6', 'entities': {'url': {'urls': [{'url': 'https://t.co/yabJ8ODgf6', 'expanded_url': 'http://sleeplessdystopian.com', 'display_url': 'sleeplessdystopian.com', 'indices': [0, 23]}]}, 'description': {'urls': []}}, 'protected': False, 'followers_count': 2286, 'friends_count': 1108, 'listed_count': 88, 'created_at': 'Mon Jan 26 15:43:29 +0000 2009', 'favourites_count': 291, 'utc_offset': None, 'time_zone': None, 'geo_enabled': True, 'verified': False, 'statuses_count': 112670, 'lang': None, 'contributors_enabled': False, 'is_translator': False, 'is_translation_enabled': False, 'profile_background_color': '1A1B1F', 'profile_background_image_url': 'http://abs.twimg.com/images/themes/theme9/bg.gif', 'profile_background_image_url_https': 'https://abs.twimg.com/images/themes/theme9/bg.gif', 'profile_background_tile': False, 'profile_image_url': 'http://pbs.twimg.com/profile_images/687359419282239488/-12hV0wh_normal.jpg', 'profile_image_url_https': 'https://pbs.twimg.com/profile_images/687359419282239488/-12hV0wh_normal.jpg', 'profile_banner_url': 'https://pbs.twimg.com/profile_banners/19539923/1433070750', 'profile_link_color': '2FC2EF', 'profile_sidebar_border_color': '181A1E', 'profile_sidebar_fill_color': '252429', 'profile_text_color': '666666', 'profile_use_background_image': True, 'has_extended_profile': False, 'default_profile': False, 'default_profile_image': False, 'following': False, 'follow_request_sent': False, 'notifications': False, 'translator_type': 'none'}, id=19539923, id_str='19539923', name='dystopian mentalist', screen_name='JustBeMentalist', location='Shropshire', description='Mentalist: Behavioral Data hActivist, Writer & investigator. monitoring data-driven political & social manipulation #dataprivacy Animal & Human Rights Protector', url='https://t.co/yabJ8ODgf6', entities={'url': {'urls': [{'url': 'https://t.co/yabJ8ODgf6', 'expanded_url': 'http://sleeplessdystopian.com', 'display_url': 'sleeplessdystopian.com', 'indices': [0, 23]}]}, 'description': {'urls': []}}, protected=False, followers_count=2286, friends_count=1108, listed_count=88, created_at=datetime.datetime(2009, 1, 26, 15, 43, 29), favourites_count=291, utc_offset=None, time_zone=None, geo_enabled=True, verified=False, statuses_count=112670, lang=None, contributors_enabled=False, is_translator=False, is_translation_enabled=False, profile_background_color='1A1B1F', profile_background_image_url='http://abs.twimg.com/images/themes/theme9/bg.gif', profile_background_image_url_https='https://abs.twimg.com/images/themes/theme9/bg.gif', profile_background_tile=False, profile_image_url='http://pbs.twimg.com/profile_images/687359419282239488/-12hV0wh_normal.jpg', profile_image_url_https='https://pbs.twimg.com/profile_images/687359419282239488/-12hV0wh_normal.jpg', profile_banner_url='https://pbs.twimg.com/profile_banners/19539923/1433070750', profile_link_color='2FC2EF', profile_sidebar_border_color='181A1E', profile_sidebar_fill_color='252429', profile_text_color='666666', profile_use_background_image=True, has_extended_profile=False, default_profile=False, default_profile_image=False, following=False, follow_request_sent=False, notifications=False, translator_type='none')>\n",
            "JustBeMentalist\n",
            "Shropshire\n",
            "-----------------\n",
            "<bound method User.friends of User(_api=<tweepy.api.API object at 0x7f1c674bc2b0>, _json={'id': 203237646, 'id_str': '203237646', 'name': 'Tuts tuts', 'screen_name': 'luqcav', 'location': 'Recife, Brasil', 'description': '', 'url': 'https://t.co/B617lBjehh', 'entities': {'url': {'urls': [{'url': 'https://t.co/B617lBjehh', 'expanded_url': 'http://www.instagram.com/lucazartu', 'display_url': 'instagram.com/lucazartu', 'indices': [0, 23]}]}, 'description': {'urls': []}}, 'protected': False, 'followers_count': 277, 'friends_count': 209, 'listed_count': 0, 'created_at': 'Fri Oct 15 20:56:21 +0000 2010', 'favourites_count': 5474, 'utc_offset': None, 'time_zone': None, 'geo_enabled': True, 'verified': False, 'statuses_count': 6475, 'lang': None, 'contributors_enabled': False, 'is_translator': False, 'is_translation_enabled': False, 'profile_background_color': 'FFFFFF', 'profile_background_image_url': 'http://abs.twimg.com/images/themes/theme14/bg.gif', 'profile_background_image_url_https': 'https://abs.twimg.com/images/themes/theme14/bg.gif', 'profile_background_tile': False, 'profile_image_url': 'http://pbs.twimg.com/profile_images/1193169417611481088/QWzeNPhL_normal.jpg', 'profile_image_url_https': 'https://pbs.twimg.com/profile_images/1193169417611481088/QWzeNPhL_normal.jpg', 'profile_banner_url': 'https://pbs.twimg.com/profile_banners/203237646/1543253719', 'profile_link_color': 'ECF402', 'profile_sidebar_border_color': '000000', 'profile_sidebar_fill_color': 'DFC172', 'profile_text_color': '805014', 'profile_use_background_image': False, 'has_extended_profile': True, 'default_profile': False, 'default_profile_image': False, 'following': False, 'follow_request_sent': False, 'notifications': False, 'translator_type': 'regular'}, id=203237646, id_str='203237646', name='Tuts tuts', screen_name='luqcav', location='Recife, Brasil', description='', url='https://t.co/B617lBjehh', entities={'url': {'urls': [{'url': 'https://t.co/B617lBjehh', 'expanded_url': 'http://www.instagram.com/lucazartu', 'display_url': 'instagram.com/lucazartu', 'indices': [0, 23]}]}, 'description': {'urls': []}}, protected=False, followers_count=277, friends_count=209, listed_count=0, created_at=datetime.datetime(2010, 10, 15, 20, 56, 21), favourites_count=5474, utc_offset=None, time_zone=None, geo_enabled=True, verified=False, statuses_count=6475, lang=None, contributors_enabled=False, is_translator=False, is_translation_enabled=False, profile_background_color='FFFFFF', profile_background_image_url='http://abs.twimg.com/images/themes/theme14/bg.gif', profile_background_image_url_https='https://abs.twimg.com/images/themes/theme14/bg.gif', profile_background_tile=False, profile_image_url='http://pbs.twimg.com/profile_images/1193169417611481088/QWzeNPhL_normal.jpg', profile_image_url_https='https://pbs.twimg.com/profile_images/1193169417611481088/QWzeNPhL_normal.jpg', profile_banner_url='https://pbs.twimg.com/profile_banners/203237646/1543253719', profile_link_color='ECF402', profile_sidebar_border_color='000000', profile_sidebar_fill_color='DFC172', profile_text_color='805014', profile_use_background_image=False, has_extended_profile=True, default_profile=False, default_profile_image=False, following=False, follow_request_sent=False, notifications=False, translator_type='regular')>\n",
            "luqcav\n",
            "Recife, Brasil\n",
            "-----------------\n",
            "<bound method User.friends of User(_api=<tweepy.api.API object at 0x7f1c674bc2b0>, _json={'id': 19539923, 'id_str': '19539923', 'name': 'dystopian mentalist', 'screen_name': 'JustBeMentalist', 'location': 'Shropshire', 'description': 'Mentalist: Behavioral Data hActivist, Writer & investigator. monitoring data-driven political & social manipulation #dataprivacy Animal & Human Rights Protector', 'url': 'https://t.co/yabJ8ODgf6', 'entities': {'url': {'urls': [{'url': 'https://t.co/yabJ8ODgf6', 'expanded_url': 'http://sleeplessdystopian.com', 'display_url': 'sleeplessdystopian.com', 'indices': [0, 23]}]}, 'description': {'urls': []}}, 'protected': False, 'followers_count': 2286, 'friends_count': 1108, 'listed_count': 88, 'created_at': 'Mon Jan 26 15:43:29 +0000 2009', 'favourites_count': 291, 'utc_offset': None, 'time_zone': None, 'geo_enabled': True, 'verified': False, 'statuses_count': 112677, 'lang': None, 'contributors_enabled': False, 'is_translator': False, 'is_translation_enabled': False, 'profile_background_color': '1A1B1F', 'profile_background_image_url': 'http://abs.twimg.com/images/themes/theme9/bg.gif', 'profile_background_image_url_https': 'https://abs.twimg.com/images/themes/theme9/bg.gif', 'profile_background_tile': False, 'profile_image_url': 'http://pbs.twimg.com/profile_images/687359419282239488/-12hV0wh_normal.jpg', 'profile_image_url_https': 'https://pbs.twimg.com/profile_images/687359419282239488/-12hV0wh_normal.jpg', 'profile_banner_url': 'https://pbs.twimg.com/profile_banners/19539923/1433070750', 'profile_link_color': '2FC2EF', 'profile_sidebar_border_color': '181A1E', 'profile_sidebar_fill_color': '252429', 'profile_text_color': '666666', 'profile_use_background_image': True, 'has_extended_profile': False, 'default_profile': False, 'default_profile_image': False, 'following': False, 'follow_request_sent': False, 'notifications': False, 'translator_type': 'none'}, id=19539923, id_str='19539923', name='dystopian mentalist', screen_name='JustBeMentalist', location='Shropshire', description='Mentalist: Behavioral Data hActivist, Writer & investigator. monitoring data-driven political & social manipulation #dataprivacy Animal & Human Rights Protector', url='https://t.co/yabJ8ODgf6', entities={'url': {'urls': [{'url': 'https://t.co/yabJ8ODgf6', 'expanded_url': 'http://sleeplessdystopian.com', 'display_url': 'sleeplessdystopian.com', 'indices': [0, 23]}]}, 'description': {'urls': []}}, protected=False, followers_count=2286, friends_count=1108, listed_count=88, created_at=datetime.datetime(2009, 1, 26, 15, 43, 29), favourites_count=291, utc_offset=None, time_zone=None, geo_enabled=True, verified=False, statuses_count=112677, lang=None, contributors_enabled=False, is_translator=False, is_translation_enabled=False, profile_background_color='1A1B1F', profile_background_image_url='http://abs.twimg.com/images/themes/theme9/bg.gif', profile_background_image_url_https='https://abs.twimg.com/images/themes/theme9/bg.gif', profile_background_tile=False, profile_image_url='http://pbs.twimg.com/profile_images/687359419282239488/-12hV0wh_normal.jpg', profile_image_url_https='https://pbs.twimg.com/profile_images/687359419282239488/-12hV0wh_normal.jpg', profile_banner_url='https://pbs.twimg.com/profile_banners/19539923/1433070750', profile_link_color='2FC2EF', profile_sidebar_border_color='181A1E', profile_sidebar_fill_color='252429', profile_text_color='666666', profile_use_background_image=True, has_extended_profile=False, default_profile=False, default_profile_image=False, following=False, follow_request_sent=False, notifications=False, translator_type='none')>\n",
            "JustBeMentalist\n",
            "Shropshire\n",
            "-----------------\n",
            "<bound method User.friends of User(_api=<tweepy.api.API object at 0x7f1c674bc2b0>, _json={'id': 1154887286041010176, 'id_str': '1154887286041010176', 'name': 'Yan', 'screen_name': 'Nigraum', 'location': 'São Paulo ', 'description': 'Just chillin... killin', 'url': None, 'entities': {'description': {'urls': []}}, 'protected': False, 'followers_count': 23, 'friends_count': 72, 'listed_count': 0, 'created_at': 'Fri Jul 26 22:52:40 +0000 2019', 'favourites_count': 421, 'utc_offset': None, 'time_zone': None, 'geo_enabled': False, 'verified': False, 'statuses_count': 619, 'lang': None, 'contributors_enabled': False, 'is_translator': False, 'is_translation_enabled': False, 'profile_background_color': 'F5F8FA', 'profile_background_image_url': None, 'profile_background_image_url_https': None, 'profile_background_tile': False, 'profile_image_url': 'http://pbs.twimg.com/profile_images/1188147029752647681/rwQTYPVY_normal.jpg', 'profile_image_url_https': 'https://pbs.twimg.com/profile_images/1188147029752647681/rwQTYPVY_normal.jpg', 'profile_banner_url': 'https://pbs.twimg.com/profile_banners/1154887286041010176/1568266416', 'profile_link_color': '1DA1F2', 'profile_sidebar_border_color': 'C0DEED', 'profile_sidebar_fill_color': 'DDEEF6', 'profile_text_color': '333333', 'profile_use_background_image': True, 'has_extended_profile': False, 'default_profile': True, 'default_profile_image': False, 'following': False, 'follow_request_sent': False, 'notifications': False, 'translator_type': 'none'}, id=1154887286041010176, id_str='1154887286041010176', name='Yan', screen_name='Nigraum', location='São Paulo ', description='Just chillin... killin', url=None, entities={'description': {'urls': []}}, protected=False, followers_count=23, friends_count=72, listed_count=0, created_at=datetime.datetime(2019, 7, 26, 22, 52, 40), favourites_count=421, utc_offset=None, time_zone=None, geo_enabled=False, verified=False, statuses_count=619, lang=None, contributors_enabled=False, is_translator=False, is_translation_enabled=False, profile_background_color='F5F8FA', profile_background_image_url=None, profile_background_image_url_https=None, profile_background_tile=False, profile_image_url='http://pbs.twimg.com/profile_images/1188147029752647681/rwQTYPVY_normal.jpg', profile_image_url_https='https://pbs.twimg.com/profile_images/1188147029752647681/rwQTYPVY_normal.jpg', profile_banner_url='https://pbs.twimg.com/profile_banners/1154887286041010176/1568266416', profile_link_color='1DA1F2', profile_sidebar_border_color='C0DEED', profile_sidebar_fill_color='DDEEF6', profile_text_color='333333', profile_use_background_image=True, has_extended_profile=False, default_profile=True, default_profile_image=False, following=False, follow_request_sent=False, notifications=False, translator_type='none')>\n",
            "Nigraum\n",
            "São Paulo \n",
            "-----------------\n",
            "<bound method User.friends of User(_api=<tweepy.api.API object at 0x7f1c674bc2b0>, _json={'id': 119540631, 'id_str': '119540631', 'name': 'U.S. Data Science Jobs', 'screen_name': 'usdatascience', 'location': 'United States', 'description': 'Share anything about #datascience', 'url': 'https://t.co/aosi7SAYEK', 'entities': {'url': {'urls': [{'url': 'https://t.co/aosi7SAYEK', 'expanded_url': 'https://usdatasciencejobs.blogspot.com/', 'display_url': 'usdatasciencejobs.blogspot.com', 'indices': [0, 23]}]}, 'description': {'urls': []}}, 'protected': False, 'followers_count': 2091, 'friends_count': 249, 'listed_count': 19, 'created_at': 'Wed Mar 03 23:35:56 +0000 2010', 'favourites_count': 8870, 'utc_offset': None, 'time_zone': None, 'geo_enabled': False, 'verified': False, 'statuses_count': 33991, 'lang': None, 'contributors_enabled': False, 'is_translator': False, 'is_translation_enabled': False, 'profile_background_color': '131516', 'profile_background_image_url': 'http://abs.twimg.com/images/themes/theme14/bg.gif', 'profile_background_image_url_https': 'https://abs.twimg.com/images/themes/theme14/bg.gif', 'profile_background_tile': True, 'profile_image_url': 'http://pbs.twimg.com/profile_images/1035435347327373312/eXq2xqE3_normal.jpg', 'profile_image_url_https': 'https://pbs.twimg.com/profile_images/1035435347327373312/eXq2xqE3_normal.jpg', 'profile_banner_url': 'https://pbs.twimg.com/profile_banners/119540631/1535702011', 'profile_link_color': '009999', 'profile_sidebar_border_color': 'EEEEEE', 'profile_sidebar_fill_color': 'EFEFEF', 'profile_text_color': '333333', 'profile_use_background_image': False, 'has_extended_profile': False, 'default_profile': False, 'default_profile_image': False, 'following': False, 'follow_request_sent': False, 'notifications': False, 'translator_type': 'none'}, id=119540631, id_str='119540631', name='U.S. Data Science Jobs', screen_name='usdatascience', location='United States', description='Share anything about #datascience', url='https://t.co/aosi7SAYEK', entities={'url': {'urls': [{'url': 'https://t.co/aosi7SAYEK', 'expanded_url': 'https://usdatasciencejobs.blogspot.com/', 'display_url': 'usdatasciencejobs.blogspot.com', 'indices': [0, 23]}]}, 'description': {'urls': []}}, protected=False, followers_count=2091, friends_count=249, listed_count=19, created_at=datetime.datetime(2010, 3, 3, 23, 35, 56), favourites_count=8870, utc_offset=None, time_zone=None, geo_enabled=False, verified=False, statuses_count=33991, lang=None, contributors_enabled=False, is_translator=False, is_translation_enabled=False, profile_background_color='131516', profile_background_image_url='http://abs.twimg.com/images/themes/theme14/bg.gif', profile_background_image_url_https='https://abs.twimg.com/images/themes/theme14/bg.gif', profile_background_tile=True, profile_image_url='http://pbs.twimg.com/profile_images/1035435347327373312/eXq2xqE3_normal.jpg', profile_image_url_https='https://pbs.twimg.com/profile_images/1035435347327373312/eXq2xqE3_normal.jpg', profile_banner_url='https://pbs.twimg.com/profile_banners/119540631/1535702011', profile_link_color='009999', profile_sidebar_border_color='EEEEEE', profile_sidebar_fill_color='EFEFEF', profile_text_color='333333', profile_use_background_image=False, has_extended_profile=False, default_profile=False, default_profile_image=False, following=False, follow_request_sent=False, notifications=False, translator_type='none')>\n",
            "usdatascience\n",
            "United States\n",
            "-----------------\n",
            "<bound method User.friends of User(_api=<tweepy.api.API object at 0x7f1c674bc2b0>, _json={'id': 35884343, 'id_str': '35884343', 'name': 'this Viana', 'screen_name': 'thaisviana', 'location': 'Brazil', 'description': 'used to indicate a person, thing, idea, state, event, time, remark, etc., as present, near, just mentioned or pointed out, supposed to be understood.', 'url': 'https://t.co/g3oPKjLlVH', 'entities': {'url': {'urls': [{'url': 'https://t.co/g3oPKjLlVH', 'expanded_url': 'http://algpedia.dcc.ufrj.br/', 'display_url': 'algpedia.dcc.ufrj.br', 'indices': [0, 23]}]}, 'description': {'urls': []}}, 'protected': False, 'followers_count': 553, 'friends_count': 511, 'listed_count': 21, 'created_at': 'Mon Apr 27 22:25:55 +0000 2009', 'favourites_count': 8887, 'utc_offset': None, 'time_zone': None, 'geo_enabled': True, 'verified': False, 'statuses_count': 5384, 'lang': None, 'contributors_enabled': False, 'is_translator': False, 'is_translation_enabled': False, 'profile_background_color': 'CCCACA', 'profile_background_image_url': 'http://abs.twimg.com/images/themes/theme10/bg.gif', 'profile_background_image_url_https': 'https://abs.twimg.com/images/themes/theme10/bg.gif', 'profile_background_tile': True, 'profile_image_url': 'http://pbs.twimg.com/profile_images/1191804166093586432/h2Wnn0Yk_normal.jpg', 'profile_image_url_https': 'https://pbs.twimg.com/profile_images/1191804166093586432/h2Wnn0Yk_normal.jpg', 'profile_banner_url': 'https://pbs.twimg.com/profile_banners/35884343/1572983331', 'profile_link_color': '1A8236', 'profile_sidebar_border_color': 'FFFFFF', 'profile_sidebar_fill_color': 'E5507E', 'profile_text_color': '362720', 'profile_use_background_image': True, 'has_extended_profile': False, 'default_profile': False, 'default_profile_image': False, 'following': False, 'follow_request_sent': False, 'notifications': False, 'translator_type': 'none'}, id=35884343, id_str='35884343', name='this Viana', screen_name='thaisviana', location='Brazil', description='used to indicate a person, thing, idea, state, event, time, remark, etc., as present, near, just mentioned or pointed out, supposed to be understood.', url='https://t.co/g3oPKjLlVH', entities={'url': {'urls': [{'url': 'https://t.co/g3oPKjLlVH', 'expanded_url': 'http://algpedia.dcc.ufrj.br/', 'display_url': 'algpedia.dcc.ufrj.br', 'indices': [0, 23]}]}, 'description': {'urls': []}}, protected=False, followers_count=553, friends_count=511, listed_count=21, created_at=datetime.datetime(2009, 4, 27, 22, 25, 55), favourites_count=8887, utc_offset=None, time_zone=None, geo_enabled=True, verified=False, statuses_count=5384, lang=None, contributors_enabled=False, is_translator=False, is_translation_enabled=False, profile_background_color='CCCACA', profile_background_image_url='http://abs.twimg.com/images/themes/theme10/bg.gif', profile_background_image_url_https='https://abs.twimg.com/images/themes/theme10/bg.gif', profile_background_tile=True, profile_image_url='http://pbs.twimg.com/profile_images/1191804166093586432/h2Wnn0Yk_normal.jpg', profile_image_url_https='https://pbs.twimg.com/profile_images/1191804166093586432/h2Wnn0Yk_normal.jpg', profile_banner_url='https://pbs.twimg.com/profile_banners/35884343/1572983331', profile_link_color='1A8236', profile_sidebar_border_color='FFFFFF', profile_sidebar_fill_color='E5507E', profile_text_color='362720', profile_use_background_image=True, has_extended_profile=False, default_profile=False, default_profile_image=False, following=False, follow_request_sent=False, notifications=False, translator_type='none')>\n",
            "thaisviana\n",
            "Brazil\n",
            "-----------------\n"
          ],
          "name": "stdout"
        }
      ]
    },
    {
      "cell_type": "code",
      "metadata": {
        "id": "ooHM4MiWtt5y",
        "colab_type": "code",
        "colab": {
          "base_uri": "https://localhost:8080/",
          "height": 132
        },
        "outputId": "38a6d9a8-bf60-418a-bd5c-bf0085ae1014"
      },
      "source": [
        "tweets = tw.Cursor(api.f search, q=\"data science\", since='2019-01-01', lang='pt').items(10)\n"
      ],
      "execution_count": 19,
      "outputs": [
        {
          "output_type": "error",
          "ename": "SyntaxError",
          "evalue": "ignored",
          "traceback": [
            "\u001b[0;36m  File \u001b[0;32m\"<ipython-input-19-40ae29a0098b>\"\u001b[0;36m, line \u001b[0;32m1\u001b[0m\n\u001b[0;31m    tweets = tw.Cursor(api.f search, q=\"data science\", since='2019-01-01', lang='pt').items(10)\u001b[0m\n\u001b[0m                                  ^\u001b[0m\n\u001b[0;31mSyntaxError\u001b[0m\u001b[0;31m:\u001b[0m invalid syntax\n"
          ]
        }
      ]
    },
    {
      "cell_type": "code",
      "metadata": {
        "id": "wEbu-jy6kARu",
        "colab_type": "code",
        "colab": {}
      },
      "source": [
        "famosos = ['cauareymond','aguiarthur','ivetesangalo','ClaudiaLeitte','neymarjr','BruMarquezine','mariruybarbosa',\n",
        "'FePaesLeme','Tatawerneck','FlaviaAleReal','julianapaes','dedesecco','SabrinaSato','ahickmann','gusttavo_lima','Anitta',\n",
        "'CarolCastroReal','gio_antonelli','maisa','cleooficial','gewbank','taisdeverdade','otaviano','bernardipaloma',\n",
        "'IngridGuimaraes','olazaroramos','GalisteuOficial','debranascimento','FioMattheis','moalfradique','Nandacostareal']"
      ],
      "execution_count": 0,
      "outputs": []
    },
    {
      "cell_type": "code",
      "metadata": {
        "id": "5dRLg5PUkCc2",
        "colab_type": "code",
        "colab": {
          "base_uri": "https://localhost:8080/",
          "height": 34
        },
        "outputId": "87d1f9b0-0eae-41c9-a515-fc39460963e2"
      },
      "source": [
        "len(famosos)\n"
      ],
      "execution_count": 21,
      "outputs": [
        {
          "output_type": "execute_result",
          "data": {
            "text/plain": [
              "31"
            ]
          },
          "metadata": {
            "tags": []
          },
          "execution_count": 21
        }
      ]
    },
    {
      "cell_type": "markdown",
      "metadata": {
        "id": "u6ZFRpcckkHP",
        "colab_type": "text"
      },
      "source": [
        "Pesquisar cada usuario famoso da lista"
      ]
    },
    {
      "cell_type": "code",
      "metadata": {
        "id": "4Eb7Hw8Akbbf",
        "colab_type": "code",
        "colab": {
          "base_uri": "https://localhost:8080/",
          "height": 1000
        },
        "outputId": "fe5d3bb8-bee6-4b4c-8bcc-b15f9fa6bd8c"
      },
      "source": [
        "for famoso in famosos:\n",
        "  tweets = tw.Cursor(api.search,\n",
        "                     q=famoso, \n",
        "                     since='2019-11-01',\n",
        "                     lang='pt').items(20)\n",
        "  print('Autor: ', famoso)\n",
        "  print('Imagens postadas:')\n",
        "  \n",
        "  for tweet in tweets:\n",
        "    if 'media' in tweet.entities:\n",
        "      print(tweet.entities['media'][0]['media_url'])\n",
        "      \n",
        "  print('-----')\n",
        "  print('\\n')"
      ],
      "execution_count": 23,
      "outputs": [
        {
          "output_type": "stream",
          "text": [
            "Autor:  cauareymond\n",
            "Imagens postadas:\n",
            "http://pbs.twimg.com/tweet_video_thumb/EJXl2fxXYAAdFVu.jpg\n",
            "http://pbs.twimg.com/media/C3bgQc-WcAIXZwI.jpg\n",
            "-----\n",
            "\n",
            "\n",
            "Autor:  aguiarthur\n",
            "Imagens postadas:\n",
            "-----\n",
            "\n",
            "\n",
            "Autor:  ivetesangalo\n",
            "Imagens postadas:\n",
            "http://pbs.twimg.com/media/EJaF6kEWwAAV8HU.jpg\n",
            "http://pbs.twimg.com/ext_tw_video_thumb/1193960579796492289/pu/img/dlMO2I9knGYXu6Rn.jpg\n",
            "-----\n",
            "\n",
            "\n",
            "Autor:  ClaudiaLeitte\n",
            "Imagens postadas:\n",
            "http://pbs.twimg.com/ext_tw_video_thumb/1195162725611134976/pu/img/aGbm9K0-AGrVjcFg.jpg\n",
            "http://pbs.twimg.com/ext_tw_video_thumb/1195162725611134976/pu/img/aGbm9K0-AGrVjcFg.jpg\n",
            "http://pbs.twimg.com/media/EJYxGjqXsAIf885.jpg\n",
            "-----\n",
            "\n",
            "\n",
            "Autor:  neymarjr\n",
            "Imagens postadas:\n",
            "http://pbs.twimg.com/ext_tw_video_thumb/1195231668690403329/pu/img/H13mzuskf4ATScyz.jpg\n",
            "http://pbs.twimg.com/media/EJVFGy8WoAopE_b.jpg\n",
            "-----\n",
            "\n",
            "\n",
            "Autor:  BruMarquezine\n",
            "Imagens postadas:\n",
            "http://pbs.twimg.com/ext_tw_video_thumb/1189279934046449669/pu/img/acgiBr98E6hTXW7a.jpg\n",
            "http://pbs.twimg.com/media/EJYhrD9XUAElsSE.jpg\n",
            "http://pbs.twimg.com/media/EJYbd6gXsAMX57k.jpg\n",
            "-----\n",
            "\n",
            "\n",
            "Autor:  mariruybarbosa\n",
            "Imagens postadas:\n",
            "-----\n",
            "\n",
            "\n",
            "Autor:  FePaesLeme\n",
            "Imagens postadas:\n",
            "http://pbs.twimg.com/ext_tw_video_thumb/1192805244218019841/pu/img/z39KZ2CM5Pifo9T9.jpg\n",
            "-----\n",
            "\n",
            "\n",
            "Autor:  Tatawerneck\n",
            "Imagens postadas:\n",
            "http://pbs.twimg.com/ext_tw_video_thumb/1187358098488467457/pu/img/AMrZWzx6r8SFMp8B.jpg\n",
            "-----\n",
            "\n",
            "\n",
            "Autor:  FlaviaAleReal\n",
            "Imagens postadas:\n",
            "http://pbs.twimg.com/media/EJVnP1kXYAIjj5p.jpg\n",
            "http://pbs.twimg.com/media/EJVnP1kXYAIjj5p.jpg\n",
            "http://pbs.twimg.com/media/EJVnKWJXUAAhDaL.jpg\n",
            "http://pbs.twimg.com/media/EJVnP1kXYAIjj5p.jpg\n",
            "http://pbs.twimg.com/media/EJVnKWJXUAAhDaL.jpg\n",
            "http://pbs.twimg.com/media/EJS6-cPXYAAUQQO.jpg\n",
            "-----\n",
            "\n",
            "\n",
            "Autor:  julianapaes\n",
            "Imagens postadas:\n",
            "http://pbs.twimg.com/media/EJYK0lMXYAAqDjX.jpg\n",
            "http://pbs.twimg.com/media/EJY9kBdXkAA5iLA.jpg\n",
            "-----\n",
            "\n",
            "\n",
            "Autor:  dedesecco\n",
            "Imagens postadas:\n",
            "http://pbs.twimg.com/media/EJYeknTWoAAYGXL.jpg\n",
            "-----\n",
            "\n",
            "\n",
            "Autor:  SabrinaSato\n",
            "Imagens postadas:\n",
            "-----\n",
            "\n",
            "\n",
            "Autor:  ahickmann\n",
            "Imagens postadas:\n",
            "http://pbs.twimg.com/media/EJYKg5jWoAAF2TT.jpg\n",
            "-----\n",
            "\n",
            "\n",
            "Autor:  gusttavo_lima\n",
            "Imagens postadas:\n",
            "http://pbs.twimg.com/media/EIlEt-7XsAA52I9.jpg\n",
            "-----\n",
            "\n",
            "\n",
            "Autor:  Anitta\n",
            "Imagens postadas:\n",
            "http://pbs.twimg.com/ext_tw_video_thumb/1195135597125476352/pu/img/Mgx7j3VDHZW51DIy.jpg\n",
            "http://pbs.twimg.com/ext_tw_video_thumb/1166878478123372549/pu/img/1eUPxz_NbNwu0Phk.jpg\n",
            "http://pbs.twimg.com/media/EJZ_o9DWkAAWdUY.jpg\n",
            "http://pbs.twimg.com/ext_tw_video_thumb/1195071660493328390/pu/img/TSEjRE3eES1CX-G_.jpg\n",
            "http://pbs.twimg.com/media/EJZ_o9DWkAAWdUY.jpg\n",
            "http://pbs.twimg.com/media/EJYJsCsWsAUhUyY.jpg\n",
            "-----\n",
            "\n",
            "\n",
            "Autor:  CarolCastroReal\n",
            "Imagens postadas:\n",
            "http://pbs.twimg.com/media/EJGtFvOWwAA6jzG.jpg\n",
            "-----\n",
            "\n",
            "\n",
            "Autor:  gio_antonelli\n",
            "Imagens postadas:\n",
            "http://pbs.twimg.com/media/EJXf_EEW4AIFuZH.jpg\n",
            "http://pbs.twimg.com/tweet_video_thumb/EJXFUGIXsAY9Vwc.jpg\n",
            "http://pbs.twimg.com/ext_tw_video_thumb/1194972735837003776/pu/img/pwCrlp15hxpOIkXx.jpg\n",
            "http://pbs.twimg.com/media/EJV_FI5XUAAxfEv.jpg\n",
            "-----\n",
            "\n",
            "\n",
            "Autor:  maisa\n",
            "Imagens postadas:\n",
            "-----\n",
            "\n",
            "\n",
            "Autor:  cleooficial\n",
            "Imagens postadas:\n",
            "http://pbs.twimg.com/ext_tw_video_thumb/1185714871909924864/pu/img/JQlEbAdjofCL6qqQ.jpg\n",
            "http://pbs.twimg.com/ext_tw_video_thumb/1068280738594922496/pu/img/uTxLLZulEwg7o9wn.jpg\n",
            "http://pbs.twimg.com/media/EBx-3weX4AAQkDl.jpg\n",
            "http://pbs.twimg.com/ext_tw_video_thumb/1068280738594922496/pu/img/uTxLLZulEwg7o9wn.jpg\n",
            "http://pbs.twimg.com/ext_tw_video_thumb/1068280738594922496/pu/img/uTxLLZulEwg7o9wn.jpg\n",
            "http://pbs.twimg.com/ext_tw_video_thumb/1068280738594922496/pu/img/uTxLLZulEwg7o9wn.jpg\n",
            "-----\n",
            "\n",
            "\n",
            "Autor:  gewbank\n",
            "Imagens postadas:\n",
            "-----\n",
            "\n",
            "\n",
            "Autor:  taisdeverdade\n",
            "Imagens postadas:\n",
            "http://pbs.twimg.com/ext_tw_video_thumb/1193984611635863556/pu/img/2DQTrAu7YMyHcQyB.jpg\n",
            "http://pbs.twimg.com/ext_tw_video_thumb/1193606087955623936/pu/img/w4mdo1fA1YyOQmMU.jpg\n",
            "http://pbs.twimg.com/ext_tw_video_thumb/1193606087955623936/pu/img/w4mdo1fA1YyOQmMU.jpg\n",
            "-----\n",
            "\n",
            "\n",
            "Autor:  otaviano\n",
            "Imagens postadas:\n",
            "http://pbs.twimg.com/ext_tw_video_thumb/1195087542271586305/pu/img/u8uMsM0SzdVuw0DN.jpg\n",
            "http://pbs.twimg.com/ext_tw_video_thumb/1195087542271586305/pu/img/u8uMsM0SzdVuw0DN.jpg\n",
            "-----\n",
            "\n",
            "\n",
            "Autor:  bernardipaloma\n",
            "Imagens postadas:\n",
            "http://pbs.twimg.com/ext_tw_video_thumb/1194415259525812224/pu/img/FAyPIbTwDRd-8CZm.jpg\n",
            "http://pbs.twimg.com/ext_tw_video_thumb/1194415259525812224/pu/img/FAyPIbTwDRd-8CZm.jpg\n",
            "http://pbs.twimg.com/ext_tw_video_thumb/1194415259525812224/pu/img/FAyPIbTwDRd-8CZm.jpg\n",
            "http://pbs.twimg.com/media/EJNQj_DXsAE9Mdh.jpg\n",
            "http://pbs.twimg.com/media/EIz0FssW4AE81Gg.jpg\n",
            "-----\n",
            "\n",
            "\n",
            "Autor:  IngridGuimaraes\n",
            "Imagens postadas:\n",
            "http://pbs.twimg.com/media/EJXoYG9WwAczRUM.jpg\n",
            "http://pbs.twimg.com/tweet_video_thumb/EJXqspJWwAE3ZzC.jpg\n",
            "http://pbs.twimg.com/tweet_video_thumb/EJXqimqWoAIdLmc.jpg\n",
            "-----\n",
            "\n",
            "\n",
            "Autor:  olazaroramos\n",
            "Imagens postadas:\n",
            "http://pbs.twimg.com/tweet_video_thumb/EJX8lv2X0AA-BrL.jpg\n",
            "-----\n",
            "\n",
            "\n",
            "Autor:  GalisteuOficial\n",
            "Imagens postadas:\n",
            "http://pbs.twimg.com/media/EJXOopOXsAEtNlg.jpg\n",
            "-----\n",
            "\n",
            "\n",
            "Autor:  debranascimento\n",
            "Imagens postadas:\n",
            "-----\n",
            "\n",
            "\n",
            "Autor:  FioMattheis\n",
            "Imagens postadas:\n",
            "http://pbs.twimg.com/tweet_video_thumb/EJTIsNbWkAEFvS1.jpg\n",
            "http://pbs.twimg.com/tweet_video_thumb/EJTIsNbWkAEFvS1.jpg\n",
            "-----\n",
            "\n",
            "\n",
            "Autor:  moalfradique\n",
            "Imagens postadas:\n",
            "http://pbs.twimg.com/media/EJNmSCBXUAE9ngC.jpg\n",
            "http://pbs.twimg.com/media/EJNmSCBXUAE9ngC.jpg\n",
            "http://pbs.twimg.com/media/EJNmSCBXUAE9ngC.jpg\n",
            "http://pbs.twimg.com/media/EJI6GHcWoAEFrqf.jpg\n",
            "-----\n",
            "\n",
            "\n",
            "Autor:  Nandacostareal\n",
            "Imagens postadas:\n",
            "http://pbs.twimg.com/ext_tw_video_thumb/1006721449342767104/pu/img/HQMuea6ww5ejuzcT.jpg\n",
            "http://pbs.twimg.com/ext_tw_video_thumb/1006721449342767104/pu/img/HQMuea6ww5ejuzcT.jpg\n",
            "http://pbs.twimg.com/ext_tw_video_thumb/1006721449342767104/pu/img/HQMuea6ww5ejuzcT.jpg\n",
            "-----\n",
            "\n",
            "\n"
          ],
          "name": "stdout"
        }
      ]
    },
    {
      "cell_type": "code",
      "metadata": {
        "id": "Xrr_9Zfmls0G",
        "colab_type": "code",
        "colab": {}
      },
      "source": [
        ""
      ],
      "execution_count": 0,
      "outputs": []
    }
  ]
}